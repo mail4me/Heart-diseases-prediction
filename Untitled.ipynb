{
 "cells": [
  {
   "cell_type": "code",
   "execution_count": 423,
   "id": "4c28bcbf",
   "metadata": {},
   "outputs": [
    {
     "name": "stdout",
     "output_type": "stream",
     "text": [
      "Defaulting to user installation because normal site-packages is not writeable\n",
      "Requirement already satisfied: optuna in c:\\users\\юля\\appdata\\roaming\\python\\python39\\site-packages (3.1.0)\n",
      "Requirement already satisfied: cmaes>=0.9.1 in c:\\users\\юля\\appdata\\roaming\\python\\python39\\site-packages (from optuna) (0.9.1)\n",
      "Requirement already satisfied: PyYAML in c:\\programdata\\anaconda3\\lib\\site-packages (from optuna) (6.0)\n",
      "Requirement already satisfied: sqlalchemy>=1.3.0 in c:\\programdata\\anaconda3\\lib\\site-packages (from optuna) (1.4.32)\n",
      "Requirement already satisfied: alembic>=1.5.0 in c:\\users\\юля\\appdata\\roaming\\python\\python39\\site-packages (from optuna) (1.9.4)\n",
      "Requirement already satisfied: tqdm in c:\\programdata\\anaconda3\\lib\\site-packages (from optuna) (4.64.0)\n",
      "Requirement already satisfied: numpy in c:\\programdata\\anaconda3\\lib\\site-packages (from optuna) (1.21.5)\n",
      "Requirement already satisfied: colorlog in c:\\users\\юля\\appdata\\roaming\\python\\python39\\site-packages (from optuna) (6.7.0)\n",
      "Requirement already satisfied: packaging>=20.0 in c:\\programdata\\anaconda3\\lib\\site-packages (from optuna) (21.3)\n",
      "Requirement already satisfied: Mako in c:\\users\\юля\\appdata\\roaming\\python\\python39\\site-packages (from alembic>=1.5.0->optuna) (1.2.4)\n",
      "Requirement already satisfied: pyparsing!=3.0.5,>=2.0.2 in c:\\programdata\\anaconda3\\lib\\site-packages (from packaging>=20.0->optuna) (3.0.4)\n",
      "Requirement already satisfied: greenlet!=0.4.17 in c:\\programdata\\anaconda3\\lib\\site-packages (from sqlalchemy>=1.3.0->optuna) (1.1.1)\n",
      "Requirement already satisfied: colorama in c:\\programdata\\anaconda3\\lib\\site-packages (from colorlog->optuna) (0.4.4)\n",
      "Requirement already satisfied: MarkupSafe>=0.9.2 in c:\\programdata\\anaconda3\\lib\\site-packages (from Mako->alembic>=1.5.0->optuna) (2.0.1)\n",
      "Note: you may need to restart the kernel to use updated packages.\n",
      "Defaulting to user installation because normal site-packages is not writeableNote: you may need to restart the kernel to use updated packages.\n",
      "Requirement already satisfied: category_encoders in c:\\users\\юля\\appdata\\roaming\\python\\python39\\site-packages (2.6.0)\n",
      "Requirement already satisfied: scikit-learn>=0.20.0 in c:\\programdata\\anaconda3\\lib\\site-packages (from category_encoders) (1.0.2)\n",
      "Requirement already satisfied: scipy>=1.0.0 in c:\\programdata\\anaconda3\\lib\\site-packages (from category_encoders) (1.7.3)\n",
      "Requirement already satisfied: statsmodels>=0.9.0 in c:\\programdata\\anaconda3\\lib\\site-packages (from category_encoders) (0.13.2)\n",
      "Requirement already satisfied: pandas>=1.0.5 in c:\\programdata\\anaconda3\\lib\\site-packages (from category_encoders) (1.4.2)\n",
      "Requirement already satisfied: patsy>=0.5.1 in c:\\programdata\\anaconda3\\lib\\site-packages (from category_encoders) (0.5.2)\n",
      "Requirement already satisfied: numpy>=1.14.0 in c:\\programdata\\anaconda3\\lib\\site-packages (from category_encoders) (1.21.5)\n",
      "Requirement already satisfied: pytz>=2020.1 in c:\\programdata\\anaconda3\\lib\\site-packages (from pandas>=1.0.5->category_encoders) (2021.3)\n",
      "Requirement already satisfied: python-dateutil>=2.8.1 in c:\\programdata\\anaconda3\\lib\\site-packages (from pandas>=1.0.5->category_encoders) (2.8.2)\n",
      "Requirement already satisfied: six in c:\\programdata\\anaconda3\\lib\\site-packages (from patsy>=0.5.1->category_encoders) (1.16.0)\n",
      "Requirement already satisfied: threadpoolctl>=2.0.0 in c:\\programdata\\anaconda3\\lib\\site-packages (from scikit-learn>=0.20.0->category_encoders) (2.2.0)\n",
      "Requirement already satisfied: joblib>=0.11 in c:\\programdata\\anaconda3\\lib\\site-packages (from scikit-learn>=0.20.0->category_encoders) (1.1.0)\n",
      "Requirement already satisfied: packaging>=21.3 in c:\\programdata\\anaconda3\\lib\\site-packages (from statsmodels>=0.9.0->category_encoders) (21.3)\n",
      "Requirement already satisfied: pyparsing!=3.0.5,>=2.0.2 in c:\\programdata\\anaconda3\\lib\\site-packages (from packaging>=21.3->statsmodels>=0.9.0->category_encoders) (3.0.4)\n",
      "\n"
     ]
    }
   ],
   "source": [
    "%pip install optuna\n",
    "%pip install category_encoders\n"
   ]
  },
  {
   "cell_type": "code",
   "execution_count": 424,
   "id": "c34b78c8",
   "metadata": {},
   "outputs": [],
   "source": [
    "#подключим библиотеки\n",
    "import pandas as pd\n",
    "import numpy as np\n",
    "import matplotlib.pyplot as plt\n",
    "import seaborn as sns\n",
    "pd.options.mode.chained_assignment = None\n",
    "\n",
    "from sklearn.preprocessing import StandardScaler \n",
    "from sklearn.model_selection import train_test_split\n",
    "from sklearn.tree import DecisionTreeClassifier, DecisionTreeRegressor\n",
    "from sklearn.ensemble import RandomForestClassifier\n",
    "from sklearn.linear_model import LogisticRegression\n",
    "from sklearn.metrics import f1_score, roc_auc_score, r2_score\n",
    "from sklearn.utils import shuffle\n",
    "from matplotlib import pyplot\n",
    "from sklearn.metrics import confusion_matrix\n",
    "from sklearn.metrics import accuracy_score\n",
    "from sklearn.metrics import recall_score\n",
    "from sklearn.metrics import precision_score\n",
    "from sklearn.utils import shuffle\n"
   ]
  },
  {
   "cell_type": "code",
   "execution_count": 425,
   "id": "45ccaf84",
   "metadata": {},
   "outputs": [],
   "source": [
    "helth_train = pd.read_csv('test.csv')\n",
    "helth_test = pd.read_csv('train.csv')"
   ]
  },
  {
   "cell_type": "code",
   "execution_count": 426,
   "id": "d4bd61f1",
   "metadata": {},
   "outputs": [],
   "source": [
    "def inf(data):\n",
    "    display(data.head())\n",
    "    print(data.info())\n",
    "    print('Количество дубликатов:', data['id'].duplicated().sum())\n",
    "    print(f'''Пропусков:\n",
    "{data.isna().sum()}''')\n",
    "    display(data.describe())\n",
    "    print(data.shape)"
   ]
  },
  {
   "cell_type": "code",
   "execution_count": 427,
   "id": "c471f280",
   "metadata": {},
   "outputs": [],
   "source": [
    "#inf(helth_test)"
   ]
  },
  {
   "cell_type": "code",
   "execution_count": 428,
   "id": "8e1d3107",
   "metadata": {},
   "outputs": [],
   "source": [
    "#inf(helth_train)"
   ]
  },
  {
   "cell_type": "code",
   "execution_count": 429,
   "id": "cfb7f931",
   "metadata": {
    "scrolled": false
   },
   "outputs": [
    {
     "data": {
      "text/plain": [
       "id             0\n",
       "age            0\n",
       "gender         0\n",
       "height         0\n",
       "weight         0\n",
       "ap_hi          0\n",
       "ap_lo          0\n",
       "cholesterol    0\n",
       "gluc           0\n",
       "smoke          0\n",
       "alco           0\n",
       "active         0\n",
       "cardio         0\n",
       "dtype: int64"
      ]
     },
     "execution_count": 429,
     "metadata": {},
     "output_type": "execute_result"
    }
   ],
   "source": [
    "helth_test.isnull().sum()"
   ]
  },
  {
   "cell_type": "code",
   "execution_count": 430,
   "id": "ea1d0021",
   "metadata": {},
   "outputs": [],
   "source": [
    "helth_test.age=round(helth_train.age/365)"
   ]
  },
  {
   "cell_type": "code",
   "execution_count": 431,
   "id": "fa81041d",
   "metadata": {},
   "outputs": [],
   "source": [
    "#sorted(helth_test.ap_hi.unique())"
   ]
  },
  {
   "cell_type": "code",
   "execution_count": 432,
   "id": "192aa4e9",
   "metadata": {},
   "outputs": [],
   "source": [
    "#helth_train[helth_train['ap_lo']>helth_train['ap_hi']] "
   ]
  },
  {
   "cell_type": "code",
   "execution_count": 433,
   "id": "62d815d9",
   "metadata": {},
   "outputs": [],
   "source": [
    "helth_test[helth_test['ap_hi']>240] = helth_test['ap_hi'].mean()\n"
   ]
  },
  {
   "cell_type": "code",
   "execution_count": 434,
   "id": "39a1dae7",
   "metadata": {},
   "outputs": [],
   "source": [
    "helth_test[helth_test['ap_hi']<80] = helth_test['ap_hi'].mean()"
   ]
  },
  {
   "cell_type": "code",
   "execution_count": 435,
   "id": "09f32385",
   "metadata": {},
   "outputs": [
    {
     "data": {
      "text/html": [
       "<div>\n",
       "<style scoped>\n",
       "    .dataframe tbody tr th:only-of-type {\n",
       "        vertical-align: middle;\n",
       "    }\n",
       "\n",
       "    .dataframe tbody tr th {\n",
       "        vertical-align: top;\n",
       "    }\n",
       "\n",
       "    .dataframe thead th {\n",
       "        text-align: right;\n",
       "    }\n",
       "</style>\n",
       "<table border=\"1\" class=\"dataframe\">\n",
       "  <thead>\n",
       "    <tr style=\"text-align: right;\">\n",
       "      <th></th>\n",
       "      <th>id</th>\n",
       "      <th>age</th>\n",
       "      <th>gender</th>\n",
       "      <th>height</th>\n",
       "      <th>weight</th>\n",
       "      <th>ap_hi</th>\n",
       "      <th>ap_lo</th>\n",
       "      <th>cholesterol</th>\n",
       "      <th>gluc</th>\n",
       "      <th>smoke</th>\n",
       "      <th>alco</th>\n",
       "      <th>active</th>\n",
       "      <th>cardio</th>\n",
       "    </tr>\n",
       "  </thead>\n",
       "  <tbody>\n",
       "  </tbody>\n",
       "</table>\n",
       "</div>"
      ],
      "text/plain": [
       "Empty DataFrame\n",
       "Columns: [id, age, gender, height, weight, ap_hi, ap_lo, cholesterol, gluc, smoke, alco, active, cardio]\n",
       "Index: []"
      ]
     },
     "execution_count": 435,
     "metadata": {},
     "output_type": "execute_result"
    }
   ],
   "source": [
    "round(helth_test[helth_test['ap_hi']>240])"
   ]
  },
  {
   "cell_type": "code",
   "execution_count": 436,
   "id": "900daa41",
   "metadata": {},
   "outputs": [],
   "source": [
    "helth_test[helth_test['ap_lo']>helth_test['ap_hi']] = helth_test['ap_hi'].mean()"
   ]
  },
  {
   "cell_type": "code",
   "execution_count": 437,
   "id": "c0f7fd8e",
   "metadata": {},
   "outputs": [],
   "source": [
    "helth_test[helth_test['cholesterol']>3] = 3"
   ]
  },
  {
   "cell_type": "code",
   "execution_count": 438,
   "id": "3dce6e2b",
   "metadata": {},
   "outputs": [],
   "source": [
    "helth_test[helth_test['age'].isnull()]=51"
   ]
  },
  {
   "cell_type": "code",
   "execution_count": 439,
   "id": "1071f619",
   "metadata": {},
   "outputs": [
    {
     "data": {
      "text/plain": [
       "array([52., 56., 50., 44., 46., 43., 60., 48., 64., 49., 62., 40., 54.,\n",
       "       58., 57., 51., 59., 63., 53., 61., 39., 42., 65., 55., 45., 41.,\n",
       "       47.,  3., 24., 25., 29., 30.])"
      ]
     },
     "execution_count": 439,
     "metadata": {},
     "output_type": "execute_result"
    }
   ],
   "source": [
    "helth_test['age'].unique()"
   ]
  },
  {
   "cell_type": "code",
   "execution_count": 440,
   "id": "b72f60fc",
   "metadata": {},
   "outputs": [],
   "source": [
    "helth_test = helth_test.astype({'weight': np.int32,'id': np.int32, 'age': np.int32,'gender':np.int32,'height': np.int32,'ap_hi': np.int32,'ap_lo': np.int32,'cholesterol': np.int32,'gluc': np.int32,'smoke': np.int32,'alco': np.int32,'active': np.int32,'cardio': np.int32})"
   ]
  },
  {
   "cell_type": "code",
   "execution_count": 441,
   "id": "ce7e0948",
   "metadata": {},
   "outputs": [],
   "source": [
    "#helth_test.info()"
   ]
  },
  {
   "cell_type": "code",
   "execution_count": 442,
   "id": "472ffd6d",
   "metadata": {},
   "outputs": [],
   "source": [
    "numeric = ['age', 'cholesterol','gluc', 'ap_lo', 'ap_hi', 'active', 'smoke', 'gender', 'alco']\n",
    "scaler = MinMaxScaler()"
   ]
  },
  {
   "cell_type": "code",
   "execution_count": 446,
   "id": "b62fdc08",
   "metadata": {},
   "outputs": [],
   "source": [
    "#Разделим данные\n",
    "features = helth_test.drop('cardio', axis=1)\n",
    "target = helth_test['cardio']\n",
    "\n"
   ]
  },
  {
   "cell_type": "code",
   "execution_count": 448,
   "id": "1ebc51bf",
   "metadata": {},
   "outputs": [],
   "source": [
    "model = RandomForestClassifier(random_state=12345, n_estimators=20,max_depth=8)\n",
    "\n",
    "model.fit(features, target)\n",
    "predictions = model.predict(helth_train)\n"
   ]
  },
  {
   "cell_type": "code",
   "execution_count": 451,
   "id": "01c8dc19",
   "metadata": {},
   "outputs": [
    {
     "data": {
      "text/html": [
       "<div>\n",
       "<style scoped>\n",
       "    .dataframe tbody tr th:only-of-type {\n",
       "        vertical-align: middle;\n",
       "    }\n",
       "\n",
       "    .dataframe tbody tr th {\n",
       "        vertical-align: top;\n",
       "    }\n",
       "\n",
       "    .dataframe thead th {\n",
       "        text-align: right;\n",
       "    }\n",
       "</style>\n",
       "<table border=\"1\" class=\"dataframe\">\n",
       "  <thead>\n",
       "    <tr style=\"text-align: right;\">\n",
       "      <th></th>\n",
       "      <th>id</th>\n",
       "      <th>cardio</th>\n",
       "    </tr>\n",
       "  </thead>\n",
       "  <tbody>\n",
       "    <tr>\n",
       "      <th>0</th>\n",
       "      <td>5</td>\n",
       "      <td>1</td>\n",
       "    </tr>\n",
       "    <tr>\n",
       "      <th>1</th>\n",
       "      <td>6</td>\n",
       "      <td>1</td>\n",
       "    </tr>\n",
       "    <tr>\n",
       "      <th>2</th>\n",
       "      <td>7</td>\n",
       "      <td>0</td>\n",
       "    </tr>\n",
       "    <tr>\n",
       "      <th>3</th>\n",
       "      <td>10</td>\n",
       "      <td>0</td>\n",
       "    </tr>\n",
       "    <tr>\n",
       "      <th>4</th>\n",
       "      <td>11</td>\n",
       "      <td>0</td>\n",
       "    </tr>\n",
       "    <tr>\n",
       "      <th>...</th>\n",
       "      <td>...</td>\n",
       "      <td>...</td>\n",
       "    </tr>\n",
       "    <tr>\n",
       "      <th>29995</th>\n",
       "      <td>99984</td>\n",
       "      <td>1</td>\n",
       "    </tr>\n",
       "    <tr>\n",
       "      <th>29996</th>\n",
       "      <td>99987</td>\n",
       "      <td>0</td>\n",
       "    </tr>\n",
       "    <tr>\n",
       "      <th>29997</th>\n",
       "      <td>99989</td>\n",
       "      <td>0</td>\n",
       "    </tr>\n",
       "    <tr>\n",
       "      <th>29998</th>\n",
       "      <td>99994</td>\n",
       "      <td>0</td>\n",
       "    </tr>\n",
       "    <tr>\n",
       "      <th>29999</th>\n",
       "      <td>99997</td>\n",
       "      <td>1</td>\n",
       "    </tr>\n",
       "  </tbody>\n",
       "</table>\n",
       "<p>30000 rows × 2 columns</p>\n",
       "</div>"
      ],
      "text/plain": [
       "          id  cardio\n",
       "0          5       1\n",
       "1          6       1\n",
       "2          7       0\n",
       "3         10       0\n",
       "4         11       0\n",
       "...      ...     ...\n",
       "29995  99984       1\n",
       "29996  99987       0\n",
       "29997  99989       0\n",
       "29998  99994       0\n",
       "29999  99997       1\n",
       "\n",
       "[30000 rows x 2 columns]"
      ]
     },
     "execution_count": 451,
     "metadata": {},
     "output_type": "execute_result"
    }
   ],
   "source": [
    "health_p = helth_train\n",
    "health_p['cardio'] = predictions\n",
    "health_p = health_p[['id', 'cardio']]\n",
    "health_p.to_csv('submission.csv', index=False)\n",
    "health_p"
   ]
  }
 ],
 "metadata": {
  "kernelspec": {
   "display_name": "Python 3 (ipykernel)",
   "language": "python",
   "name": "python3"
  },
  "language_info": {
   "codemirror_mode": {
    "name": "ipython",
    "version": 3
   },
   "file_extension": ".py",
   "mimetype": "text/x-python",
   "name": "python",
   "nbconvert_exporter": "python",
   "pygments_lexer": "ipython3",
   "version": "3.9.12"
  }
 },
 "nbformat": 4,
 "nbformat_minor": 5
}
